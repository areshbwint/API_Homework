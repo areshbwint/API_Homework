{
 "cells": [
  {
   "cell_type": "code",
   "execution_count": 1,
   "metadata": {},
   "outputs": [],
   "source": [
    "import numpy as np\n",
    "import pandas as pd\n",
    "from datetime import datetime, timedelta\n",
    "import matplotlib.pyplot as plt\n",
    "%matplotlib inline"
   ]
  },
  {
   "cell_type": "code",
   "execution_count": 2,
   "metadata": {},
   "outputs": [],
   "source": [
    "np.random.seed(42)"
   ]
  },
  {
   "cell_type": "markdown",
   "metadata": {},
   "source": [
    "# Portfolio Planner\n",
    "\n",
    "In this activity, you will use the iedfinance api to grab historical data for a 60/40 portfolio using `SPY` to represent the stock portion and `AGG` to represent the bonds."
   ]
  },
  {
   "cell_type": "code",
   "execution_count": 3,
   "metadata": {},
   "outputs": [],
   "source": [
    "from iexfinance.stocks import get_historical_data\n",
    "import iexfinance as iex\n",
    "from iexfinance.refdata import get_symbols"
   ]
  },
  {
   "cell_type": "markdown",
   "metadata": {},
   "source": [
    "# Data Collection\n",
    "\n",
    "In this step, you will need to use the IEX api to fetch closing prices for the `SPY` and `AGG` tickers. Save the results as a pandas DataFrame"
   ]
  },
  {
   "cell_type": "code",
   "execution_count": 4,
   "metadata": {},
   "outputs": [
    {
     "data": {
      "text/html": [
       "<div>\n",
       "<style scoped>\n",
       "    .dataframe tbody tr th:only-of-type {\n",
       "        vertical-align: middle;\n",
       "    }\n",
       "\n",
       "    .dataframe tbody tr th {\n",
       "        vertical-align: top;\n",
       "    }\n",
       "\n",
       "    .dataframe thead th {\n",
       "        text-align: right;\n",
       "    }\n",
       "</style>\n",
       "<table border=\"1\" class=\"dataframe\">\n",
       "  <thead>\n",
       "    <tr style=\"text-align: right;\">\n",
       "      <th></th>\n",
       "      <th>SPY</th>\n",
       "      <th>AGG</th>\n",
       "    </tr>\n",
       "    <tr>\n",
       "      <th>date</th>\n",
       "      <th></th>\n",
       "      <th></th>\n",
       "    </tr>\n",
       "  </thead>\n",
       "  <tbody>\n",
       "    <tr>\n",
       "      <th>2018-10-02</th>\n",
       "      <td>291.56</td>\n",
       "      <td>105.36</td>\n",
       "    </tr>\n",
       "    <tr>\n",
       "      <th>2018-10-03</th>\n",
       "      <td>291.72</td>\n",
       "      <td>104.86</td>\n",
       "    </tr>\n",
       "    <tr>\n",
       "      <th>2018-10-04</th>\n",
       "      <td>289.44</td>\n",
       "      <td>104.56</td>\n",
       "    </tr>\n",
       "    <tr>\n",
       "      <th>2018-10-05</th>\n",
       "      <td>287.82</td>\n",
       "      <td>104.33</td>\n",
       "    </tr>\n",
       "    <tr>\n",
       "      <th>2018-10-08</th>\n",
       "      <td>287.82</td>\n",
       "      <td>104.29</td>\n",
       "    </tr>\n",
       "  </tbody>\n",
       "</table>\n",
       "</div>"
      ],
      "text/plain": [
       "               SPY     AGG\n",
       "date                      \n",
       "2018-10-02  291.56  105.36\n",
       "2018-10-03  291.72  104.86\n",
       "2018-10-04  289.44  104.56\n",
       "2018-10-05  287.82  104.33\n",
       "2018-10-08  287.82  104.29"
      ]
     },
     "execution_count": 4,
     "metadata": {},
     "output_type": "execute_result"
    }
   ],
   "source": [
    "list_of_tickers = [\"SPY\", \"AGG\"]\n",
    "Ticker_1 = \"SPY\"\n",
    "Ticker_2 = \"AGG\"\n",
    "end_date = datetime.now()\n",
    "start_date = end_date + timedelta(-365)\n",
    "df_spy = get_historical_data(Ticker_1, start_date, end_date,  output_format='pandas')\n",
    "df_agg = get_historical_data(Ticker_2, start_date, end_date,  output_format='pandas')\n",
    "df_spy_1= df_spy.drop(columns=['open','high','low','volume'])\n",
    "df_spy_2 = df_spy_1.rename(columns={\"close\": \"SPY\"})\n",
    "df_agg_1=df_agg.drop(columns=['open','high','low','volume'])\n",
    "df_agg_2 = df_agg_1.rename(columns={\"close\": \"AGG\"})\n",
    "combined_df = pd.concat([df_spy_2, df_agg_2], axis = \"columns\", join = \"inner\")\n",
    "combined_df.head()"
   ]
  },
  {
   "cell_type": "markdown",
   "metadata": {},
   "source": [
    "# Monte Carlo Simulation\n",
    "\n",
    "In this step, you will run Monte Carlo Simulations for your portfolio to model portfolio performance at different retirement ages. \n",
    "\n",
    "Complete the following steps:\n",
    "1. Calculate the daily returns for the SPY and AGG closing prices.\n",
    "2. Calculate volatility for both the SPY and AGG closing prices.\n",
    "3. Find the last day's closing price for both stocks and save those as variables.\n",
    "4. Run a Monte Carlo Simulation of at least 100 iterations and generate at least 20 years of closing prices\n",
    "\n",
    "### HINTS:\n",
    "There are 252 trading days per year, so the number of records to generate for each Monte Carlo run will be 252 days * 20 years"
   ]
  },
  {
   "cell_type": "code",
   "execution_count": 5,
   "metadata": {},
   "outputs": [
    {
     "data": {
      "text/html": [
       "<div>\n",
       "<style scoped>\n",
       "    .dataframe tbody tr th:only-of-type {\n",
       "        vertical-align: middle;\n",
       "    }\n",
       "\n",
       "    .dataframe tbody tr th {\n",
       "        vertical-align: top;\n",
       "    }\n",
       "\n",
       "    .dataframe thead th {\n",
       "        text-align: right;\n",
       "    }\n",
       "</style>\n",
       "<table border=\"1\" class=\"dataframe\">\n",
       "  <thead>\n",
       "    <tr style=\"text-align: right;\">\n",
       "      <th></th>\n",
       "      <th>SPY</th>\n",
       "      <th>AGG</th>\n",
       "    </tr>\n",
       "    <tr>\n",
       "      <th>date</th>\n",
       "      <th></th>\n",
       "      <th></th>\n",
       "    </tr>\n",
       "  </thead>\n",
       "  <tbody>\n",
       "    <tr>\n",
       "      <th>2018-10-02</th>\n",
       "      <td>NaN</td>\n",
       "      <td>NaN</td>\n",
       "    </tr>\n",
       "    <tr>\n",
       "      <th>2018-10-03</th>\n",
       "      <td>0.000549</td>\n",
       "      <td>-0.004746</td>\n",
       "    </tr>\n",
       "    <tr>\n",
       "      <th>2018-10-04</th>\n",
       "      <td>-0.007816</td>\n",
       "      <td>-0.002861</td>\n",
       "    </tr>\n",
       "    <tr>\n",
       "      <th>2018-10-05</th>\n",
       "      <td>-0.005597</td>\n",
       "      <td>-0.002200</td>\n",
       "    </tr>\n",
       "    <tr>\n",
       "      <th>2018-10-08</th>\n",
       "      <td>0.000000</td>\n",
       "      <td>-0.000383</td>\n",
       "    </tr>\n",
       "  </tbody>\n",
       "</table>\n",
       "</div>"
      ],
      "text/plain": [
       "                 SPY       AGG\n",
       "date                          \n",
       "2018-10-02       NaN       NaN\n",
       "2018-10-03  0.000549 -0.004746\n",
       "2018-10-04 -0.007816 -0.002861\n",
       "2018-10-05 -0.005597 -0.002200\n",
       "2018-10-08  0.000000 -0.000383"
      ]
     },
     "execution_count": 5,
     "metadata": {},
     "output_type": "execute_result"
    }
   ],
   "source": [
    "# Calculate the daily roi for the stocks\n",
    "daily_returns = combined_df.pct_change()\n",
    "daily_returns.head()"
   ]
  },
  {
   "cell_type": "code",
   "execution_count": 6,
   "metadata": {},
   "outputs": [],
   "source": [
    "# Save the last day's closing price\n",
    "num_trading_days = 252\n",
    "SPY_last_price = combined_df['SPY'][-1]\n",
    "AGG_last_price = combined_df['AGG'][-1]"
   ]
  },
  {
   "cell_type": "code",
   "execution_count": 7,
   "metadata": {},
   "outputs": [
    {
     "data": {
      "text/plain": [
       "SPY    0.010645\n",
       "AGG    0.001959\n",
       "dtype: float64"
      ]
     },
     "execution_count": 7,
     "metadata": {},
     "output_type": "execute_result"
    }
   ],
   "source": [
    "# Calculate volatility\n",
    "std_dev_daily_return = daily_returns.std()\n",
    "std_dev_daily_return\n"
   ]
  },
  {
   "cell_type": "code",
   "execution_count": 8,
   "metadata": {},
   "outputs": [],
   "source": [
    "avg_daily_return = daily_returns.mean()"
   ]
  },
  {
   "cell_type": "code",
   "execution_count": 9,
   "metadata": {},
   "outputs": [],
   "source": [
    "# Setup the Monte Carlo Parameters\n",
    "number_simulations = 100\n",
    "number_records = 252 * 30\n",
    "monte_carlo = pd.DataFrame()\n",
    "simulated_price_df = pd.DataFrame()"
   ]
  },
  {
   "cell_type": "code",
   "execution_count": 10,
   "metadata": {},
   "outputs": [
    {
     "data": {
      "text/html": [
       "<div>\n",
       "<style scoped>\n",
       "    .dataframe tbody tr th:only-of-type {\n",
       "        vertical-align: middle;\n",
       "    }\n",
       "\n",
       "    .dataframe tbody tr th {\n",
       "        vertical-align: top;\n",
       "    }\n",
       "\n",
       "    .dataframe thead th {\n",
       "        text-align: right;\n",
       "    }\n",
       "</style>\n",
       "<table border=\"1\" class=\"dataframe\">\n",
       "  <thead>\n",
       "    <tr style=\"text-align: right;\">\n",
       "      <th></th>\n",
       "      <th>0</th>\n",
       "      <th>1</th>\n",
       "      <th>2</th>\n",
       "      <th>3</th>\n",
       "      <th>4</th>\n",
       "      <th>5</th>\n",
       "      <th>6</th>\n",
       "      <th>7</th>\n",
       "      <th>8</th>\n",
       "      <th>9</th>\n",
       "      <th>...</th>\n",
       "      <th>90</th>\n",
       "      <th>91</th>\n",
       "      <th>92</th>\n",
       "      <th>93</th>\n",
       "      <th>94</th>\n",
       "      <th>95</th>\n",
       "      <th>96</th>\n",
       "      <th>97</th>\n",
       "      <th>98</th>\n",
       "      <th>99</th>\n",
       "    </tr>\n",
       "  </thead>\n",
       "  <tbody>\n",
       "    <tr>\n",
       "      <th>0</th>\n",
       "      <td>1.000000</td>\n",
       "      <td>1.000000</td>\n",
       "      <td>1.000000</td>\n",
       "      <td>1.000000</td>\n",
       "      <td>1.000000</td>\n",
       "      <td>1.000000</td>\n",
       "      <td>1.000000</td>\n",
       "      <td>1.000000</td>\n",
       "      <td>1.000000</td>\n",
       "      <td>1.000000</td>\n",
       "      <td>...</td>\n",
       "      <td>1.000000</td>\n",
       "      <td>1.000000</td>\n",
       "      <td>1.000000</td>\n",
       "      <td>1.000000</td>\n",
       "      <td>1.000000</td>\n",
       "      <td>1.000000</td>\n",
       "      <td>1.000000</td>\n",
       "      <td>1.000000</td>\n",
       "      <td>1.000000</td>\n",
       "      <td>1.000000</td>\n",
       "    </tr>\n",
       "    <tr>\n",
       "      <th>1</th>\n",
       "      <td>1.003226</td>\n",
       "      <td>0.993698</td>\n",
       "      <td>0.990520</td>\n",
       "      <td>0.998600</td>\n",
       "      <td>1.006124</td>\n",
       "      <td>1.009222</td>\n",
       "      <td>1.012385</td>\n",
       "      <td>0.993474</td>\n",
       "      <td>1.001868</td>\n",
       "      <td>0.998708</td>\n",
       "      <td>...</td>\n",
       "      <td>1.000611</td>\n",
       "      <td>1.001798</td>\n",
       "      <td>0.993233</td>\n",
       "      <td>1.001681</td>\n",
       "      <td>0.990250</td>\n",
       "      <td>0.996353</td>\n",
       "      <td>1.010817</td>\n",
       "      <td>1.011523</td>\n",
       "      <td>1.009155</td>\n",
       "      <td>1.012473</td>\n",
       "    </tr>\n",
       "    <tr>\n",
       "      <th>2</th>\n",
       "      <td>1.008737</td>\n",
       "      <td>0.998110</td>\n",
       "      <td>0.988684</td>\n",
       "      <td>0.997417</td>\n",
       "      <td>1.010209</td>\n",
       "      <td>0.996414</td>\n",
       "      <td>1.004578</td>\n",
       "      <td>0.979122</td>\n",
       "      <td>1.000316</td>\n",
       "      <td>1.009788</td>\n",
       "      <td>...</td>\n",
       "      <td>0.995356</td>\n",
       "      <td>1.005954</td>\n",
       "      <td>0.984093</td>\n",
       "      <td>0.995477</td>\n",
       "      <td>0.988706</td>\n",
       "      <td>0.990413</td>\n",
       "      <td>1.002097</td>\n",
       "      <td>1.012630</td>\n",
       "      <td>1.007032</td>\n",
       "      <td>1.016947</td>\n",
       "    </tr>\n",
       "    <tr>\n",
       "      <th>3</th>\n",
       "      <td>1.007207</td>\n",
       "      <td>0.997710</td>\n",
       "      <td>0.992927</td>\n",
       "      <td>0.988966</td>\n",
       "      <td>1.008960</td>\n",
       "      <td>1.000586</td>\n",
       "      <td>1.009022</td>\n",
       "      <td>0.971020</td>\n",
       "      <td>0.999524</td>\n",
       "      <td>1.019766</td>\n",
       "      <td>...</td>\n",
       "      <td>1.002224</td>\n",
       "      <td>1.002218</td>\n",
       "      <td>0.974859</td>\n",
       "      <td>1.001502</td>\n",
       "      <td>0.984485</td>\n",
       "      <td>0.991193</td>\n",
       "      <td>0.995162</td>\n",
       "      <td>1.013354</td>\n",
       "      <td>1.008466</td>\n",
       "      <td>1.026256</td>\n",
       "    </tr>\n",
       "    <tr>\n",
       "      <th>4</th>\n",
       "      <td>1.018135</td>\n",
       "      <td>1.000958</td>\n",
       "      <td>0.987253</td>\n",
       "      <td>0.995981</td>\n",
       "      <td>1.010043</td>\n",
       "      <td>0.993065</td>\n",
       "      <td>1.006461</td>\n",
       "      <td>0.967270</td>\n",
       "      <td>1.009574</td>\n",
       "      <td>1.005100</td>\n",
       "      <td>...</td>\n",
       "      <td>1.008502</td>\n",
       "      <td>0.999544</td>\n",
       "      <td>0.973379</td>\n",
       "      <td>1.006271</td>\n",
       "      <td>0.975573</td>\n",
       "      <td>0.993786</td>\n",
       "      <td>0.983754</td>\n",
       "      <td>1.014567</td>\n",
       "      <td>1.012635</td>\n",
       "      <td>1.020087</td>\n",
       "    </tr>\n",
       "  </tbody>\n",
       "</table>\n",
       "<p>5 rows × 100 columns</p>\n",
       "</div>"
      ],
      "text/plain": [
       "         0         1         2         3         4         5         6   \\\n",
       "0  1.000000  1.000000  1.000000  1.000000  1.000000  1.000000  1.000000   \n",
       "1  1.003226  0.993698  0.990520  0.998600  1.006124  1.009222  1.012385   \n",
       "2  1.008737  0.998110  0.988684  0.997417  1.010209  0.996414  1.004578   \n",
       "3  1.007207  0.997710  0.992927  0.988966  1.008960  1.000586  1.009022   \n",
       "4  1.018135  1.000958  0.987253  0.995981  1.010043  0.993065  1.006461   \n",
       "\n",
       "         7         8         9   ...        90        91        92        93  \\\n",
       "0  1.000000  1.000000  1.000000  ...  1.000000  1.000000  1.000000  1.000000   \n",
       "1  0.993474  1.001868  0.998708  ...  1.000611  1.001798  0.993233  1.001681   \n",
       "2  0.979122  1.000316  1.009788  ...  0.995356  1.005954  0.984093  0.995477   \n",
       "3  0.971020  0.999524  1.019766  ...  1.002224  1.002218  0.974859  1.001502   \n",
       "4  0.967270  1.009574  1.005100  ...  1.008502  0.999544  0.973379  1.006271   \n",
       "\n",
       "         94        95        96        97        98        99  \n",
       "0  1.000000  1.000000  1.000000  1.000000  1.000000  1.000000  \n",
       "1  0.990250  0.996353  1.010817  1.011523  1.009155  1.012473  \n",
       "2  0.988706  0.990413  1.002097  1.012630  1.007032  1.016947  \n",
       "3  0.984485  0.991193  0.995162  1.013354  1.008466  1.026256  \n",
       "4  0.975573  0.993786  0.983754  1.014567  1.012635  1.020087  \n",
       "\n",
       "[5 rows x 100 columns]"
      ]
     },
     "execution_count": 10,
     "metadata": {},
     "output_type": "execute_result"
    }
   ],
   "source": [
    "# Run the Monte Carlo Simulation\n",
    "\n",
    "for x in range(number_simulations):\n",
    "   simulated_SPY_prices = [SPY_last_price]\n",
    "   simulated_AGG_prices = [AGG_last_price]\n",
    "   for i in range(number_records \n",
    "):\n",
    "       simulated_price_SPY = simulated_SPY_prices[-1] * (1 + np.random.normal(avg_daily_return['SPY'], std_dev_daily_return['SPY']))\n",
    "       simulated_price_AGG = simulated_AGG_prices[-1] * (1 + np.random.normal(avg_daily_return['AGG'], std_dev_daily_return['AGG']))\n",
    "       simulated_SPY_prices.append(simulated_price_SPY)\n",
    "       simulated_AGG_prices.append(simulated_price_AGG)\n",
    "   simulated_price_df[\"SPY prices\"] = pd.Series(simulated_SPY_prices)\n",
    "   simulated_price_df[\"AGG prices\"] = pd.Series(simulated_AGG_prices)\n",
    "   combined_simulated_prices = pd.concat([simulated_price_df[\"SPY prices\"], simulated_price_df[\"AGG prices\"]], axis = \"columns\", join = \"inner\")\n",
    "   #Calculate the daily returns of simulated prices\n",
    "   simulated_daily_returns = combined_simulated_prices.pct_change()\n",
    "   # Set the portfolio weights (60% SPY; 40% AGG)\n",
    "   weights = [0.60, 0.40]\n",
    "# Use the dot function with the weights to multiply weights with each column's simulated daily returns\n",
    "   portfolio_daily_returns = simulated_daily_returns.dot(weights)\n",
    "    # Calculate the normalized, cumulative return series\n",
    "   monte_carlo[x] = (1 + portfolio_daily_returns.fillna(0)).cumprod()\n",
    "monte_carlo.head()"
   ]
  },
  {
   "cell_type": "code",
   "execution_count": 11,
   "metadata": {},
   "outputs": [
    {
     "data": {
      "text/plain": [
       "<matplotlib.axes._subplots.AxesSubplot at 0x120186fd0>"
      ]
     },
     "execution_count": 11,
     "metadata": {},
     "output_type": "execute_result"
    },
    {
     "data": {
      "image/png": "[encoded data removed]",
      "text/plain": [
       "<Figure size 432x288 with 1 Axes>"
      ]
     },
     "metadata": {
      "needs_background": "light"
     },
     "output_type": "display_data"
    }
   ],
   "source": [
    "# Visualize the Simulation\n",
    "plot_title = f\"{x+1} Simulations of Cumulative Portfolio Return Trajectories Over the Next 252 Trading Days\"\n",
    "monte_carlo.plot(legend=None, title=plot_title)"
   ]
  },
  {
   "cell_type": "code",
   "execution_count": 12,
   "metadata": {},
   "outputs": [
    {
     "data": {
      "text/plain": [
       "0    3.544742\n",
       "1    2.746637\n",
       "2    4.220721\n",
       "3    4.608761\n",
       "4    3.969524\n",
       "Name: 7560, dtype: float64"
      ]
     },
     "execution_count": 12,
     "metadata": {},
     "output_type": "execute_result"
    }
   ],
   "source": [
    "# Select the last row for the cumulative returns (cumulative returns at 30 years)\n",
    "ending_cumulative_returns = monte_carlo.iloc[-1, :]\n",
    "ending_cumulative_returns.head()"
   ]
  },
  {
   "cell_type": "code",
   "execution_count": 13,
   "metadata": {},
   "outputs": [
    {
     "data": {
      "text/plain": [
       "0    3.505826\n",
       "1    2.763789\n",
       "2    4.024771\n",
       "3    4.558718\n",
       "4    4.109898\n",
       "Name: 7551, dtype: float64"
      ]
     },
     "execution_count": 13,
     "metadata": {},
     "output_type": "execute_result"
    }
   ],
   "source": [
    "# Select the last row for the cumulative returns (cumulative returns at 20 years)\n",
    "ending_cumulative_returns = monte_carlo.iloc[-10, :]\n",
    "ending_cumulative_returns.head()"
   ]
  },
  {
   "cell_type": "code",
   "execution_count": 14,
   "metadata": {},
   "outputs": [
    {
     "data": {
      "text/plain": [
       "0.025    0.717787\n",
       "0.975    7.328806\n",
       "Name: 7551, dtype: float64"
      ]
     },
     "execution_count": 14,
     "metadata": {},
     "output_type": "execute_result"
    }
   ],
   "source": [
    "# Display the 90% confidence interval for the ending returns\n",
    "confidence_interval = ending_cumulative_returns.quantile(q=[0.025, 0.975])\n",
    "confidence_interval"
   ]
  },
  {
   "cell_type": "code",
   "execution_count": 15,
   "metadata": {},
   "outputs": [
    {
     "data": {
      "text/plain": [
       "<matplotlib.lines.Line2D at 0x124d37240>"
      ]
     },
     "execution_count": 15,
     "metadata": {},
     "output_type": "execute_result"
    },
    {
     "data": {
      "image/png": "[encoded data removed]",
      "text/plain": [
       "<Figure size 432x288 with 1 Axes>"
      ]
     },
     "metadata": {
      "needs_background": "light"
     },
     "output_type": "display_data"
    }
   ],
   "source": [
    "# Visualize the distribution of the ending returns\n",
    "plt.figure();\n",
    "ending_cumulative_returns.plot(kind='hist', density=True, bins=10)\n",
    "plt.axvline(confidence_interval.iloc[0], color='r')\n",
    "plt.axvline(confidence_interval.iloc[1], color='r')"
   ]
  },
  {
   "cell_type": "markdown",
   "metadata": {},
   "source": [
    "---"
   ]
  },
  {
   "cell_type": "markdown",
   "metadata": {},
   "source": [
    "# Retirement Analysis\n",
    "\n",
    "In this section, you will use the monte carlo model to answer the following retirement planning questions:\n",
    "\n",
    "1. What are the expected cumulative returns at 30 years for the 10th, 50th, and 90th percentiles?\n",
    "2. Given an initial investment of `$20,000`, what is the expected portfolio return in dollars at the 10th, 50th, and 90th percentiles?\n",
    "3. Given the current projected annual income from the Plaid analysis, will a 4% withdraw rate from the retirement portfolio meet or exceed that value at the 10th percentile?\n",
    "4. How would a 50% increase in the initial investment amount affect the 4% retirement withdrawal?"
   ]
  },
  {
   "cell_type": "markdown",
   "metadata": {},
   "source": [
    "### What are the expected cumulative returns at 30 years for the 10th, 50th, and 90th percentiles?"
   ]
  },
  {
   "cell_type": "code",
   "execution_count": 16,
   "metadata": {},
   "outputs": [
    {
     "data": {
      "text/plain": [
       "(2.47, 3.411]     0.28\n",
       "(1.53, 2.47]      0.23\n",
       "(3.411, 4.351]    0.18\n",
       "(0.579, 1.53]     0.17\n",
       "(6.232, 7.173]    0.05\n",
       "(4.351, 5.292]    0.04\n",
       "(7.173, 8.113]    0.02\n",
       "(5.292, 6.232]    0.02\n",
       "(9.054, 9.994]    0.01\n",
       "(8.113, 9.054]    0.00\n",
       "Name: 7551, dtype: float64"
      ]
     },
     "execution_count": 16,
     "metadata": {},
     "output_type": "execute_result"
    }
   ],
   "source": [
    "ending_cumulative_returns.value_counts(bins=10) / len(ending_cumulative_returns)"
   ]
  },
  {
   "cell_type": "markdown",
   "metadata": {},
   "source": [
    "### Given an initial investment of `$20,000`, what is the expected portfolio return in dollars at the 10th, 50th, and 90th percentiles?"
   ]
  },
  {
   "cell_type": "code",
   "execution_count": 21,
   "metadata": {},
   "outputs": [
    {
     "name": "stdout",
     "output_type": "stream",
     "text": [
      "There is a 10% chance that an initial investment of $20,000 over the next 252 trading days will end within in the range of $34355.74272108208 and $166576.11048145633\n"
     ]
    }
   ],
   "source": [
    "initial_investment = 20000\n",
    "investment_pnl_lower_bound = initial_investment + (initial_investment * confidence_interval.iloc[0])\n",
    "investment_pnl_upper_bound = initial_investment + (initial_investment * confidence_interval.iloc[1])\n",
    "\n",
    "# Print the results\n",
    "print(f\"There is a 10% chance that an initial investment of $20,000\"\n",
    "      f\" over the next 252 trading days will end within in the range of\"\n",
    "      f\" ${investment_pnl_lower_bound} and ${investment_pnl_upper_bound}\")"
   ]
  },
  {
   "cell_type": "markdown",
   "metadata": {},
   "source": [
    "### Given the current projected annual income from the Plaid analysis, will a 4% withdraw rate from the retirement portfolio meet or exceed that value at the 10th percentile?\n",
    "\n",
    "Note: This is effectively saying that 90% of the expected returns will be greater than the return at the 10th percentile, so this can help measure the uncertainty about having enough funds at retirement"
   ]
  },
  {
   "cell_type": "code",
   "execution_count": 18,
   "metadata": {},
   "outputs": [],
   "source": [
    "# YOUR CODE HERE"
   ]
  },
  {
   "cell_type": "markdown",
   "metadata": {},
   "source": [
    "### How would a 50% increase in the initial investment amount affect the 4% retirement withdrawal?"
   ]
  },
  {
   "cell_type": "code",
   "execution_count": 19,
   "metadata": {},
   "outputs": [],
   "source": [
    "# YOUR CODE HERE"
   ]
  },
  {
   "cell_type": "markdown",
   "metadata": {},
   "source": [
    "### Optional Challenge\n",
    "\n",
    "In this section, you will calculate and plot the cumulative returns for the median and 90% confidence intervals. This plot shows the expected cumulative returns for any given day between the first day and the last day of investment. "
   ]
  },
  {
   "cell_type": "code",
   "execution_count": 20,
   "metadata": {},
   "outputs": [],
   "source": [
    "# YOUR CODE HERE"
   ]
  }
 ],
 "metadata": {
  "kernel_info": {
   "name": "dev"
  },
  "kernelspec": {
   "display_name": "Python 3",
   "language": "python",
   "name": "python3"
  },
  "language_info": {
   "codemirror_mode": {
    "name": "ipython",
    "version": 3
   },
   "file_extension": ".py",
   "mimetype": "text/x-python",
   "name": "python",
   "nbconvert_exporter": "python",
   "pygments_lexer": "ipython3",
   "version": "3.7.3"
  },
  "nteract": {
   "version": "0.12.3"
  }
 },
 "nbformat": 4,
 "nbformat_minor": 4
}
